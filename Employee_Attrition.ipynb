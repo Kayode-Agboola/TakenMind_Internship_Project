{
    "cells": [
        {
            "cell_type": "code",
            "execution_count": 1,
            "metadata": {},
            "outputs": [],
            "source": "import pandas as pd\nimport numpy as np\nimport pylab as pl\nimport scipy.optimize as opt\nfrom sklearn import preprocessing\nimport matplotlib.pyplot as plt\n%matplotlib inline"
        },
        {
            "cell_type": "code",
            "execution_count": 2,
            "metadata": {},
            "outputs": [],
            "source": "# The code was removed by Watson Studio for sharing."
        },
        {
            "cell_type": "code",
            "execution_count": 3,
            "metadata": {},
            "outputs": [
                {
                    "data": {
                        "text/html": "<div>\n<style scoped>\n    .dataframe tbody tr th:only-of-type {\n        vertical-align: middle;\n    }\n\n    .dataframe tbody tr th {\n        vertical-align: top;\n    }\n\n    .dataframe thead th {\n        text-align: right;\n    }\n</style>\n<table border=\"1\" class=\"dataframe\">\n  <thead>\n    <tr style=\"text-align: right;\">\n      <th></th>\n      <th>Emp ID</th>\n      <th>satisfaction_level</th>\n      <th>last_evaluation</th>\n      <th>number_project</th>\n      <th>average_montly_hours</th>\n      <th>time_spend_company</th>\n      <th>Work_accident</th>\n      <th>promotion_last_5years</th>\n      <th>dept</th>\n      <th>salary</th>\n      <th>Attrition</th>\n    </tr>\n  </thead>\n  <tbody>\n    <tr>\n      <th>0</th>\n      <td>2001</td>\n      <td>0.58</td>\n      <td>0.74</td>\n      <td>4</td>\n      <td>215</td>\n      <td>3</td>\n      <td>0</td>\n      <td>0</td>\n      <td>sales</td>\n      <td>low</td>\n      <td>No</td>\n    </tr>\n    <tr>\n      <th>1</th>\n      <td>2002</td>\n      <td>0.82</td>\n      <td>0.67</td>\n      <td>2</td>\n      <td>202</td>\n      <td>3</td>\n      <td>0</td>\n      <td>0</td>\n      <td>sales</td>\n      <td>low</td>\n      <td>No</td>\n    </tr>\n    <tr>\n      <th>2</th>\n      <td>2003</td>\n      <td>0.45</td>\n      <td>0.69</td>\n      <td>5</td>\n      <td>193</td>\n      <td>3</td>\n      <td>0</td>\n      <td>0</td>\n      <td>sales</td>\n      <td>low</td>\n      <td>No</td>\n    </tr>\n    <tr>\n      <th>3</th>\n      <td>2004</td>\n      <td>0.78</td>\n      <td>0.82</td>\n      <td>5</td>\n      <td>247</td>\n      <td>3</td>\n      <td>0</td>\n      <td>0</td>\n      <td>sales</td>\n      <td>low</td>\n      <td>No</td>\n    </tr>\n    <tr>\n      <th>4</th>\n      <td>2005</td>\n      <td>0.49</td>\n      <td>0.60</td>\n      <td>3</td>\n      <td>214</td>\n      <td>2</td>\n      <td>0</td>\n      <td>0</td>\n      <td>sales</td>\n      <td>low</td>\n      <td>No</td>\n    </tr>\n  </tbody>\n</table>\n</div>",
                        "text/plain": "   Emp ID  satisfaction_level  last_evaluation  number_project  \\\n0    2001                0.58             0.74               4   \n1    2002                0.82             0.67               2   \n2    2003                0.45             0.69               5   \n3    2004                0.78             0.82               5   \n4    2005                0.49             0.60               3   \n\n   average_montly_hours  time_spend_company  Work_accident  \\\n0                   215                   3              0   \n1                   202                   3              0   \n2                   193                   3              0   \n3                   247                   3              0   \n4                   214                   2              0   \n\n   promotion_last_5years   dept salary Attrition  \n0                      0  sales    low        No  \n1                      0  sales    low        No  \n2                      0  sales    low        No  \n3                      0  sales    low        No  \n4                      0  sales    low        No  "
                    },
                    "execution_count": 3,
                    "metadata": {},
                    "output_type": "execute_result"
                }
            ],
            "source": "# The code was removed by Watson Studio for sharing."
        },
        {
            "cell_type": "code",
            "execution_count": 4,
            "metadata": {},
            "outputs": [
                {
                    "name": "stdout",
                    "output_type": "stream",
                    "text": "<class 'pandas.core.frame.DataFrame'>\nRangeIndex: 14999 entries, 0 to 14998\nData columns (total 11 columns):\nEmp ID                   14999 non-null int64\nsatisfaction_level       14999 non-null float64\nlast_evaluation          14999 non-null float64\nnumber_project           14999 non-null int64\naverage_montly_hours     14999 non-null int64\ntime_spend_company       14999 non-null int64\nWork_accident            14999 non-null int64\npromotion_last_5years    14999 non-null int64\ndept                     14999 non-null category\nsalary                   14999 non-null category\nAttrition                14999 non-null category\ndtypes: category(3), float64(2), int64(6)\nmemory usage: 982.0 KB\n"
                }
            ],
            "source": "df['Attrition'] = df['Attrition'].astype('category')\ndf['dept'] = df['dept'].astype('category')\ndf['salary'] = df['salary'].astype('category')\ndf.info()\n"
        },
        {
            "cell_type": "code",
            "execution_count": 5,
            "metadata": {},
            "outputs": [
                {
                    "data": {
                        "text/plain": "(14999, 11)"
                    },
                    "execution_count": 5,
                    "metadata": {},
                    "output_type": "execute_result"
                }
            ],
            "source": "df['salary'] = df['salary'].cat.codes\ndf['dept'] = df['dept'].cat.codes\ndf['Attrition'] = df['Attrition'].cat.codes\ndf.head()\ndf.shape"
        },
        {
            "cell_type": "code",
            "execution_count": 6,
            "metadata": {},
            "outputs": [
                {
                    "data": {
                        "text/html": "<div>\n<style scoped>\n    .dataframe tbody tr th:only-of-type {\n        vertical-align: middle;\n    }\n\n    .dataframe tbody tr th {\n        vertical-align: top;\n    }\n\n    .dataframe thead th {\n        text-align: right;\n    }\n</style>\n<table border=\"1\" class=\"dataframe\">\n  <thead>\n    <tr style=\"text-align: right;\">\n      <th></th>\n      <th>satisfaction_level</th>\n      <th>last_evaluation</th>\n      <th>number_project</th>\n      <th>average_montly_hours</th>\n      <th>time_spend_company</th>\n      <th>Work_accident</th>\n      <th>promotion_last_5years</th>\n      <th>dept</th>\n      <th>salary</th>\n      <th>Attrition</th>\n    </tr>\n  </thead>\n  <tbody>\n    <tr>\n      <th>0</th>\n      <td>0.58</td>\n      <td>0.74</td>\n      <td>4</td>\n      <td>215</td>\n      <td>3</td>\n      <td>0</td>\n      <td>0</td>\n      <td>7</td>\n      <td>1</td>\n      <td>0</td>\n    </tr>\n    <tr>\n      <th>1</th>\n      <td>0.82</td>\n      <td>0.67</td>\n      <td>2</td>\n      <td>202</td>\n      <td>3</td>\n      <td>0</td>\n      <td>0</td>\n      <td>7</td>\n      <td>1</td>\n      <td>0</td>\n    </tr>\n    <tr>\n      <th>2</th>\n      <td>0.45</td>\n      <td>0.69</td>\n      <td>5</td>\n      <td>193</td>\n      <td>3</td>\n      <td>0</td>\n      <td>0</td>\n      <td>7</td>\n      <td>1</td>\n      <td>0</td>\n    </tr>\n    <tr>\n      <th>3</th>\n      <td>0.78</td>\n      <td>0.82</td>\n      <td>5</td>\n      <td>247</td>\n      <td>3</td>\n      <td>0</td>\n      <td>0</td>\n      <td>7</td>\n      <td>1</td>\n      <td>0</td>\n    </tr>\n    <tr>\n      <th>4</th>\n      <td>0.49</td>\n      <td>0.60</td>\n      <td>3</td>\n      <td>214</td>\n      <td>2</td>\n      <td>0</td>\n      <td>0</td>\n      <td>7</td>\n      <td>1</td>\n      <td>0</td>\n    </tr>\n    <tr>\n      <th>5</th>\n      <td>0.36</td>\n      <td>0.95</td>\n      <td>3</td>\n      <td>206</td>\n      <td>4</td>\n      <td>0</td>\n      <td>0</td>\n      <td>7</td>\n      <td>1</td>\n      <td>0</td>\n    </tr>\n    <tr>\n      <th>6</th>\n      <td>0.54</td>\n      <td>0.37</td>\n      <td>2</td>\n      <td>176</td>\n      <td>2</td>\n      <td>0</td>\n      <td>0</td>\n      <td>7</td>\n      <td>1</td>\n      <td>0</td>\n    </tr>\n    <tr>\n      <th>7</th>\n      <td>0.99</td>\n      <td>0.91</td>\n      <td>5</td>\n      <td>136</td>\n      <td>4</td>\n      <td>0</td>\n      <td>0</td>\n      <td>7</td>\n      <td>1</td>\n      <td>0</td>\n    </tr>\n    <tr>\n      <th>8</th>\n      <td>0.50</td>\n      <td>0.75</td>\n      <td>6</td>\n      <td>127</td>\n      <td>3</td>\n      <td>0</td>\n      <td>0</td>\n      <td>7</td>\n      <td>1</td>\n      <td>0</td>\n    </tr>\n  </tbody>\n</table>\n</div>",
                        "text/plain": "   satisfaction_level  last_evaluation  number_project  average_montly_hours  \\\n0                0.58             0.74               4                   215   \n1                0.82             0.67               2                   202   \n2                0.45             0.69               5                   193   \n3                0.78             0.82               5                   247   \n4                0.49             0.60               3                   214   \n5                0.36             0.95               3                   206   \n6                0.54             0.37               2                   176   \n7                0.99             0.91               5                   136   \n8                0.50             0.75               6                   127   \n\n   time_spend_company  Work_accident  promotion_last_5years  dept  salary  \\\n0                   3              0                      0     7       1   \n1                   3              0                      0     7       1   \n2                   3              0                      0     7       1   \n3                   3              0                      0     7       1   \n4                   2              0                      0     7       1   \n5                   4              0                      0     7       1   \n6                   2              0                      0     7       1   \n7                   4              0                      0     7       1   \n8                   3              0                      0     7       1   \n\n   Attrition  \n0          0  \n1          0  \n2          0  \n3          0  \n4          0  \n5          0  \n6          0  \n7          0  \n8          0  "
                    },
                    "execution_count": 6,
                    "metadata": {},
                    "output_type": "execute_result"
                }
            ],
            "source": "cdf = df[['satisfaction_level','last_evaluation','number_project','average_montly_hours','time_spend_company','Work_accident','promotion_last_5years','dept','salary','Attrition']]\ncdf.head(9)\n"
        },
        {
            "cell_type": "code",
            "execution_count": 7,
            "metadata": {},
            "outputs": [
                {
                    "data": {
                        "text/html": "<div>\n<style scoped>\n    .dataframe tbody tr th:only-of-type {\n        vertical-align: middle;\n    }\n\n    .dataframe tbody tr th {\n        vertical-align: top;\n    }\n\n    .dataframe thead th {\n        text-align: right;\n    }\n</style>\n<table border=\"1\" class=\"dataframe\">\n  <thead>\n    <tr style=\"text-align: right;\">\n      <th></th>\n      <th>satisfaction_level</th>\n      <th>last_evaluation</th>\n      <th>number_project</th>\n      <th>average_montly_hours</th>\n      <th>time_spend_company</th>\n      <th>Work_accident</th>\n      <th>promotion_last_5years</th>\n      <th>dept</th>\n      <th>salary</th>\n      <th>Attrition</th>\n    </tr>\n  </thead>\n  <tbody>\n    <tr>\n      <th>0</th>\n      <td>0.43</td>\n      <td>0.46</td>\n      <td>2</td>\n      <td>149</td>\n      <td>3</td>\n      <td>0</td>\n      <td>0</td>\n      <td>9</td>\n      <td>2</td>\n      <td>1</td>\n    </tr>\n    <tr>\n      <th>1</th>\n      <td>0.75</td>\n      <td>0.78</td>\n      <td>2</td>\n      <td>259</td>\n      <td>3</td>\n      <td>0</td>\n      <td>0</td>\n      <td>6</td>\n      <td>1</td>\n      <td>0</td>\n    </tr>\n    <tr>\n      <th>2</th>\n      <td>0.75</td>\n      <td>0.59</td>\n      <td>5</td>\n      <td>206</td>\n      <td>2</td>\n      <td>0</td>\n      <td>0</td>\n      <td>5</td>\n      <td>1</td>\n      <td>0</td>\n    </tr>\n    <tr>\n      <th>3</th>\n      <td>0.56</td>\n      <td>0.84</td>\n      <td>4</td>\n      <td>143</td>\n      <td>4</td>\n      <td>0</td>\n      <td>0</td>\n      <td>7</td>\n      <td>2</td>\n      <td>0</td>\n    </tr>\n    <tr>\n      <th>4</th>\n      <td>0.71</td>\n      <td>0.76</td>\n      <td>3</td>\n      <td>201</td>\n      <td>2</td>\n      <td>0</td>\n      <td>0</td>\n      <td>1</td>\n      <td>2</td>\n      <td>0</td>\n    </tr>\n  </tbody>\n</table>\n</div>",
                        "text/plain": "   satisfaction_level  last_evaluation  number_project  average_montly_hours  \\\n0                0.43             0.46               2                   149   \n1                0.75             0.78               2                   259   \n2                0.75             0.59               5                   206   \n3                0.56             0.84               4                   143   \n4                0.71             0.76               3                   201   \n\n   time_spend_company  Work_accident  promotion_last_5years  dept  salary  \\\n0                   3              0                      0     9       2   \n1                   3              0                      0     6       1   \n2                   2              0                      0     5       1   \n3                   4              0                      0     7       2   \n4                   2              0                      0     1       2   \n\n   Attrition  \n0          1  \n1          0  \n2          0  \n3          0  \n4          0  "
                    },
                    "execution_count": 7,
                    "metadata": {},
                    "output_type": "execute_result"
                }
            ],
            "source": "df = cdf.sample(frac=1).reset_index(drop=True)\ndf.head()"
        },
        {
            "cell_type": "code",
            "execution_count": 37,
            "metadata": {},
            "outputs": [
                {
                    "data": {
                        "text/plain": "(14999, 10)"
                    },
                    "execution_count": 37,
                    "metadata": {},
                    "output_type": "execute_result"
                }
            ],
            "source": "df.shape"
        },
        {
            "cell_type": "code",
            "execution_count": 40,
            "metadata": {},
            "outputs": [
                {
                    "ename": "SyntaxError",
                    "evalue": "positional argument follows keyword argument (<ipython-input-40-592dd21d86ad>, line 3)",
                    "output_type": "error",
                    "traceback": [
                        "\u001b[0;36m  File \u001b[0;32m\"<ipython-input-40-592dd21d86ad>\"\u001b[0;36m, line \u001b[0;32m3\u001b[0m\n\u001b[0;31m    df.plot(kind='pie',y)\u001b[0m\n\u001b[0m                      ^\u001b[0m\n\u001b[0;31mSyntaxError\u001b[0m\u001b[0;31m:\u001b[0m positional argument follows keyword argument\n"
                    ]
                }
            ],
            "source": "X=df.values[:,0:9]\ny=df.values[:,9]\ndf.plot(kind='pie')\n"
        },
        {
            "cell_type": "code",
            "execution_count": 14,
            "metadata": {},
            "outputs": [
                {
                    "data": {
                        "text/plain": "array([[-7.35386472e-01, -1.49624121e+00, -1.46286291e+00,\n        -1.04222751e+00, -3.41235163e-01, -4.11165293e-01,\n        -1.47411822e-01,  1.09090722e+00,  1.04300352e+00],\n       [ 5.51706115e-01,  3.73317299e-01, -1.46286291e+00,\n         1.16035240e+00, -3.41235163e-01, -4.11165293e-01,\n        -1.47411822e-01,  4.51339358e-02, -5.54954582e-01],\n       [ 5.51706115e-01, -7.36733068e-01,  9.71112924e-01,\n         9.91093541e-02, -1.02612560e+00, -4.11165293e-01,\n        -1.47411822e-01, -3.03457157e-01, -5.54954582e-01],\n       [-2.12505109e-01,  7.23859520e-01,  1.59787644e-01,\n        -1.16236823e+00,  3.43655271e-01, -4.11165293e-01,\n        -1.47411822e-01,  3.93725029e-01,  1.04300352e+00],\n       [ 3.90819541e-01,  2.56469892e-01, -6.51537635e-01,\n        -1.00791436e-03, -1.02612560e+00, -4.11165293e-01,\n        -1.47411822e-01, -1.69782153e+00,  1.04300352e+00],\n       [-8.96273046e-01, -1.14569899e+00, -1.46286291e+00,\n        -1.44269658e+00, -3.41235163e-01, -4.11165293e-01,\n        -1.47411822e-01,  4.51339358e-02, -5.54954582e-01],\n       [ 7.93035975e-01,  1.07440174e+00,  1.59787644e-01,\n        -7.21852247e-01, -3.41235163e-01, -4.11165293e-01,\n        -1.47411822e-01, -1.69782153e+00,  1.04300352e+00],\n       [-4.13613326e-01,  6.07012113e-01, -6.51537635e-01,\n         9.91093541e-02,  3.43655271e-01, -4.11165293e-01,\n        -1.47411822e-01, -1.00063934e+00,  1.04300352e+00],\n       [ 3.50597898e-01,  1.19124915e+00,  9.71112924e-01,\n        -3.81453534e-01, -3.41235163e-01, -4.11165293e-01,\n        -1.47411822e-01, -1.00063934e+00, -5.54954582e-01]])"
                    },
                    "execution_count": 14,
                    "metadata": {},
                    "output_type": "execute_result"
                }
            ],
            "source": "from sklearn import preprocessing\nX = preprocessing.StandardScaler().fit(X).transform(X)\nX[0:9]"
        },
        {
            "cell_type": "code",
            "execution_count": 24,
            "metadata": {},
            "outputs": [
                {
                    "name": "stdout",
                    "output_type": "stream",
                    "text": "Train set: (12749, 9) (12749,)\nTest set: (2250, 9) (2250,)\n"
                }
            ],
            "source": "from sklearn.model_selection import train_test_split\nX_train, X_test, y_train, y_test = train_test_split( X, y, test_size=0.15, random_state=4)\nprint ('Train set:', X_train.shape,  y_train.shape)\nprint ('Test set:', X_test.shape,  y_test.shape)"
        },
        {
            "cell_type": "code",
            "execution_count": 25,
            "metadata": {},
            "outputs": [
                {
                    "data": {
                        "text/plain": "LogisticRegression(C=0.01, class_weight=None, dual=False, fit_intercept=True,\n          intercept_scaling=1, max_iter=100, multi_class='warn',\n          n_jobs=None, penalty='l2', random_state=None, solver='liblinear',\n          tol=0.0001, verbose=0, warm_start=False)"
                    },
                    "execution_count": 25,
                    "metadata": {},
                    "output_type": "execute_result"
                }
            ],
            "source": "from sklearn.linear_model import LogisticRegression\nfrom sklearn.metrics import confusion_matrix\nLR = LogisticRegression(C=0.01, solver='liblinear').fit(X_train,y_train)\nLR"
        },
        {
            "cell_type": "code",
            "execution_count": 26,
            "metadata": {},
            "outputs": [
                {
                    "data": {
                        "text/plain": "array([0., 0., 0., ..., 0., 0., 0.])"
                    },
                    "execution_count": 26,
                    "metadata": {},
                    "output_type": "execute_result"
                }
            ],
            "source": "yhat = LR.predict(X_test)\nyhat"
        },
        {
            "cell_type": "code",
            "execution_count": 27,
            "metadata": {},
            "outputs": [
                {
                    "data": {
                        "text/plain": "array([[0.76, 0.24],\n       [0.83, 0.17],\n       [0.83, 0.17],\n       ...,\n       [0.77, 0.23],\n       [0.83, 0.17],\n       [0.9 , 0.1 ]])"
                    },
                    "execution_count": 27,
                    "metadata": {},
                    "output_type": "execute_result"
                }
            ],
            "source": "yhat_prob = LR.predict_proba(X_test)\nyhat_prob"
        },
        {
            "cell_type": "code",
            "execution_count": 32,
            "metadata": {},
            "outputs": [
                {
                    "name": "stdout",
                    "output_type": "stream",
                    "text": "[[ 134  383]\n [ 112 1621]]\n"
                }
            ],
            "source": "from sklearn.metrics import classification_report, confusion_matrix\nimport itertools\ndef plot_confusion_matrix(cm, classes,\n                          normalize=False,\n                          title='Confusion matrix',\n                          cmap=plt.cm.Blues):\n    \"\"\"\n    This function prints and plots the confusion matrix.\n    Normalization can be applied by setting `normalize=True`.\n    \"\"\"\n    if normalize:\n        cm = cm.astype('float') / cm.sum(axis=1)[:, np.newaxis]\n        print(\"Normalized confusion matrix\")\n    else:\n        print('Confusion matrix, without normalization')\n\n    print(cm)\n\n    plt.imshow(cm, interpolation='nearest', cmap=cmap)\n    plt.title(title)\n    plt.colorbar()\n    tick_marks = np.arange(len(classes))\n    plt.xticks(tick_marks, classes, rotation=45)\n    plt.yticks(tick_marks, classes)\n\n    fmt = '.2f' if normalize else 'd'\n    thresh = cm.max() / 2.\n    for i, j in itertools.product(range(cm.shape[0]), range(cm.shape[1])):\n        plt.text(j, i, format(cm[i, j], fmt),\n                 horizontalalignment=\"center\",\n                 color=\"white\" if cm[i, j] > thresh else \"black\")\n\n    plt.tight_layout()\n    plt.ylabel('True label')\n    plt.xlabel('Predicted label')\nprint(confusion_matrix(y_test, yhat, labels=[1,0]))"
        },
        {
            "cell_type": "code",
            "execution_count": 33,
            "metadata": {},
            "outputs": [
                {
                    "name": "stdout",
                    "output_type": "stream",
                    "text": "Confusion matrix, without normalization\n[[ 134  383]\n [ 112 1621]]\n"
                },
                {
                    "data": {
                        "image/png": "[encoded data removed]",
                        "text/plain": "<Figure size 432x288 with 2 Axes>"
                    },
                    "metadata": {
                        "needs_background": "light"
                    },
                    "output_type": "display_data"
                }
            ],
            "source": "# Compute confusion matrix\ncnf_matrix = confusion_matrix(y_test, yhat, labels=[1,0])\nnp.set_printoptions(precision=2)\n\n\n# Plot non-normalized confusion matrix\nplt.figure()\nplot_confusion_matrix(cnf_matrix, classes=['ATTRITION=1','ATTRITION=0'],normalize= False,  title='Confusion matrix')"
        },
        {
            "cell_type": "code",
            "execution_count": 30,
            "metadata": {},
            "outputs": [
                {
                    "name": "stdout",
                    "output_type": "stream",
                    "text": "              precision    recall  f1-score   support\n\n         0.0       0.81      0.94      0.87      1733\n         1.0       0.54      0.26      0.35       517\n\n   micro avg       0.78      0.78      0.78      2250\n   macro avg       0.68      0.60      0.61      2250\nweighted avg       0.75      0.78      0.75      2250\n\n"
                }
            ],
            "source": "print (classification_report(y_test, yhat))"
        },
        {
            "cell_type": "code",
            "execution_count": 31,
            "metadata": {},
            "outputs": [
                {
                    "data": {
                        "text/plain": "0.433050658194731"
                    },
                    "execution_count": 31,
                    "metadata": {},
                    "output_type": "execute_result"
                }
            ],
            "source": "from sklearn.metrics import log_loss\nlog_loss(y_test, yhat_prob)"
        },
        {
            "cell_type": "code",
            "execution_count": 34,
            "metadata": {},
            "outputs": [
                {
                    "data": {
                        "text/plain": "0.78"
                    },
                    "execution_count": 34,
                    "metadata": {},
                    "output_type": "execute_result"
                }
            ],
            "source": "from sklearn.metrics import jaccard_similarity_score\njaccard_similarity_score(y_test, yhat)"
        },
        {
            "cell_type": "code",
            "execution_count": null,
            "metadata": {},
            "outputs": [],
            "source": ""
        }
    ],
    "metadata": {
        "kernelspec": {
            "display_name": "Python 3.6",
            "language": "python",
            "name": "python3"
        },
        "language_info": {
            "codemirror_mode": {
                "name": "ipython",
                "version": 3
            },
            "file_extension": ".py",
            "mimetype": "text/x-python",
            "name": "python",
            "nbconvert_exporter": "python",
            "pygments_lexer": "ipython3",
            "version": "3.6.9"
        }
    },
    "nbformat": 4,
    "nbformat_minor": 1
}